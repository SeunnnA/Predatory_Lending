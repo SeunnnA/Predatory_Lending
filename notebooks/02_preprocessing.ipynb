{
 "cells": [
  {
   "cell_type": "code",
   "execution_count": 1,
   "id": "237faaa4",
   "metadata": {},
   "outputs": [
    {
     "name": "stdout",
     "output_type": "stream",
     "text": [
      "Intel MKL WARNING: Support of Intel(R) Streaming SIMD Extensions 4.2 (Intel(R) SSE4.2) enabled only processors has been deprecated. Intel oneAPI Math Kernel Library 2025.0 will require Intel(R) Advanced Vector Extensions (Intel(R) AVX) instructions.\n",
      "Intel MKL WARNING: Support of Intel(R) Streaming SIMD Extensions 4.2 (Intel(R) SSE4.2) enabled only processors has been deprecated. Intel oneAPI Math Kernel Library 2025.0 will require Intel(R) Advanced Vector Extensions (Intel(R) AVX) instructions.\n"
     ]
    },
    {
     "data": {
      "text/html": [
       "<div>\n",
       "<style scoped>\n",
       "    .dataframe tbody tr th:only-of-type {\n",
       "        vertical-align: middle;\n",
       "    }\n",
       "\n",
       "    .dataframe tbody tr th {\n",
       "        vertical-align: top;\n",
       "    }\n",
       "\n",
       "    .dataframe thead th {\n",
       "        text-align: right;\n",
       "    }\n",
       "</style>\n",
       "<table border=\"1\" class=\"dataframe\">\n",
       "  <thead>\n",
       "    <tr style=\"text-align: right;\">\n",
       "      <th></th>\n",
       "      <th>filename</th>\n",
       "      <th>source</th>\n",
       "      <th>label</th>\n",
       "      <th>text</th>\n",
       "    </tr>\n",
       "  </thead>\n",
       "  <tbody>\n",
       "    <tr>\n",
       "      <th>0</th>\n",
       "      <td>speedy_cash_payday_desc.txt</td>\n",
       "      <td>Speedy Cash</td>\n",
       "      <td>predatory</td>\n",
       "      <td>PAYDAY LOANS\\nConvenient.\\nQuick. Reliable.\\na...</td>\n",
       "    </tr>\n",
       "    <tr>\n",
       "      <th>1</th>\n",
       "      <td>big_picture_loans_info.txt</td>\n",
       "      <td>Big Picture Loans</td>\n",
       "      <td>predatory</td>\n",
       "      <td>\\nBig Picture Loans\\nHomeRequirements\\nRequire...</td>\n",
       "    </tr>\n",
       "    <tr>\n",
       "      <th>2</th>\n",
       "      <td>ace_cash_express_loan_page.txt</td>\n",
       "      <td>ACE Cash Express</td>\n",
       "      <td>predatory</td>\n",
       "      <td>Payday Loans at ACE Cash Express\\nPayday loans...</td>\n",
       "    </tr>\n",
       "    <tr>\n",
       "      <th>3</th>\n",
       "      <td>check_city_payday_loan_info.txt</td>\n",
       "      <td>Check City</td>\n",
       "      <td>predatory</td>\n",
       "      <td>Payday Loans Online Apply Today!\\nNeed cash be...</td>\n",
       "    </tr>\n",
       "    <tr>\n",
       "      <th>4</th>\n",
       "      <td>cashnetusa_alternative_marketing.txt</td>\n",
       "      <td>CashNetUSA</td>\n",
       "      <td>predatory</td>\n",
       "      <td>Menu\\nLog In\\nCashNetUSA\\nPayday Loan Alternat...</td>\n",
       "    </tr>\n",
       "  </tbody>\n",
       "</table>\n",
       "</div>"
      ],
      "text/plain": [
       "                               filename              source      label  \\\n",
       "0           speedy_cash_payday_desc.txt         Speedy Cash  predatory   \n",
       "1            big_picture_loans_info.txt   Big Picture Loans  predatory   \n",
       "2        ace_cash_express_loan_page.txt    ACE Cash Express  predatory   \n",
       "3       check_city_payday_loan_info.txt          Check City  predatory   \n",
       "4  cashnetusa_alternative_marketing.txt          CashNetUSA  predatory   \n",
       "\n",
       "                                                text  \n",
       "0  PAYDAY LOANS\\nConvenient.\\nQuick. Reliable.\\na...  \n",
       "1  \\nBig Picture Loans\\nHomeRequirements\\nRequire...  \n",
       "2  Payday Loans at ACE Cash Express\\nPayday loans...  \n",
       "3  Payday Loans Online Apply Today!\\nNeed cash be...  \n",
       "4  Menu\\nLog In\\nCashNetUSA\\nPayday Loan Alternat...  "
      ]
     },
     "execution_count": 1,
     "metadata": {},
     "output_type": "execute_result"
    }
   ],
   "source": [
    "# 02_preprocessing.ipynb\n",
    "\n",
    "import pandas as pd\n",
    "import re\n",
    "\n",
    "df = pd.read_csv(\"../data/metadata/loan_texts.csv\")\n",
    "df.head()"
   ]
  },
  {
   "cell_type": "code",
   "execution_count": 2,
   "id": "c5c24f8a",
   "metadata": {},
   "outputs": [],
   "source": [
    "#Basic cleaning function\n",
    "def basic_clean(text):\n",
    "    if pd.isna(text):\n",
    "        return \"\"\n",
    "    text = text.lower()  # lowercase\n",
    "    text = re.sub(r\"\\s+\", \" \", text)  # remove extra whitespace\n",
    "    text = re.sub(r\"[^a-z0-9\\s]\", \"\", text)  # remove punctuation/special chars\n",
    "    return text.strip()"
   ]
  },
  {
   "cell_type": "code",
   "execution_count": 7,
   "id": "844ea71a",
   "metadata": {},
   "outputs": [],
   "source": [
    "df['clean_text'] = df['text'].apply(basic_clean)\n",
    "\n",
    "# Quick check\n",
    "df[['label', 'text', 'clean_text']].head(2)\n",
    "\n",
    "# Save cleaned data\n",
    "df.to_csv(\"../data/metadata/loan_texts_clean.csv\", index=False)"
   ]
  }
 ],
 "metadata": {
  "kernelspec": {
   "display_name": "Python 3",
   "language": "python",
   "name": "python3"
  },
  "language_info": {
   "codemirror_mode": {
    "name": "ipython",
    "version": 3
   },
   "file_extension": ".py",
   "mimetype": "text/x-python",
   "name": "python",
   "nbconvert_exporter": "python",
   "pygments_lexer": "ipython3",
   "version": "3.9.18"
  }
 },
 "nbformat": 4,
 "nbformat_minor": 5
}
