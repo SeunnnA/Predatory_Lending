{
 "cells": [
  {
   "cell_type": "markdown",
   "id": "9dc66b73",
   "metadata": {},
   "source": [
    "# 01: Data Loading & Inspection\n",
    "\n",
    "This notebook loads the loan document text files, applies labels, and combines everything into a single DataFrame for modeling."
   ]
  },
  {
   "cell_type": "code",
   "execution_count": null,
   "id": "7922862e",
   "metadata": {},
   "outputs": [],
   "source": [
    "import pandas as pd\n",
    "import os"
   ]
  },
  {
   "cell_type": "code",
   "execution_count": null,
   "id": "572e71ad",
   "metadata": {},
   "outputs": [],
   "source": [
    "labels_df = pd.read_csv(\"../data/metadata/data_labels.csv\", header=None)\n",
    "labels_df.columns = ['filename', 'source', 'label']\n",
    "labels_df.head()"
   ]
  },
  {
   "cell_type": "code",
   "execution_count": null,
   "id": "3995a602",
   "metadata": {},
   "outputs": [],
   "source": [
    "texts = []\n",
    "\n",
    "for fname in labels_df['filename']:\n",
    "    file_path = os.path.join(\"../data/loan_texts\", fname)\n",
    "    with open(file_path, \"r\", encoding=\"utf-8\") as f:\n",
    "        texts.append(f.read())\n",
    "\n",
    "labels_df['text'] = texts\n",
    "labels_df.head(2)"
   ]
  },
  {
   "cell_type": "code",
   "execution_count": null,
   "id": "31c9f9bf",
   "metadata": {},
   "outputs": [],
   "source": [
    "labels_df.isnull().sum()"
   ]
  }
 ],
 "metadata": {},
 "nbformat": 4,
 "nbformat_minor": 5
}
