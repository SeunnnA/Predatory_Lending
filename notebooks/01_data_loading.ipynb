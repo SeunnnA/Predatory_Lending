{
 "cells": [
  {
   "cell_type": "markdown",
   "id": "9dc66b73",
   "metadata": {},
   "source": [
    "# 01: Data Loading & Inspection\n",
    "\n",
    "This notebook loads the loan document text files, applies labels, and combines everything into a single DataFrame for modeling."
   ]
  },
  {
   "cell_type": "code",
   "execution_count": 11,
   "id": "7922862e",
   "metadata": {},
   "outputs": [],
   "source": [
    "import pandas as pd\n",
    "import os"
   ]
  },
  {
   "cell_type": "code",
   "execution_count": 26,
   "id": "572e71ad",
   "metadata": {},
   "outputs": [
    {
     "data": {
      "text/html": [
       "<div>\n",
       "<style scoped>\n",
       "    .dataframe tbody tr th:only-of-type {\n",
       "        vertical-align: middle;\n",
       "    }\n",
       "\n",
       "    .dataframe tbody tr th {\n",
       "        vertical-align: top;\n",
       "    }\n",
       "\n",
       "    .dataframe thead th {\n",
       "        text-align: right;\n",
       "    }\n",
       "</style>\n",
       "<table border=\"1\" class=\"dataframe\">\n",
       "  <thead>\n",
       "    <tr style=\"text-align: right;\">\n",
       "      <th></th>\n",
       "      <th>filename</th>\n",
       "      <th>source</th>\n",
       "      <th>label</th>\n",
       "    </tr>\n",
       "  </thead>\n",
       "  <tbody>\n",
       "    <tr>\n",
       "      <th>1</th>\n",
       "      <td>speedy_cash_payday_desc.txt</td>\n",
       "      <td>Speedy Cash</td>\n",
       "      <td>predatory</td>\n",
       "    </tr>\n",
       "    <tr>\n",
       "      <th>2</th>\n",
       "      <td>big_picture_loans_info.txt</td>\n",
       "      <td>Big Picture Loans</td>\n",
       "      <td>predatory</td>\n",
       "    </tr>\n",
       "    <tr>\n",
       "      <th>3</th>\n",
       "      <td>ace_cash_express_loan_page.txt</td>\n",
       "      <td>ACE Cash Express</td>\n",
       "      <td>predatory</td>\n",
       "    </tr>\n",
       "    <tr>\n",
       "      <th>4</th>\n",
       "      <td>check_city_payday_loan_info.txt</td>\n",
       "      <td>Check City</td>\n",
       "      <td>predatory</td>\n",
       "    </tr>\n",
       "    <tr>\n",
       "      <th>5</th>\n",
       "      <td>cashnetusa_alternative_marketing.txt</td>\n",
       "      <td>CashNetUSA</td>\n",
       "      <td>predatory</td>\n",
       "    </tr>\n",
       "  </tbody>\n",
       "</table>\n",
       "</div>"
      ],
      "text/plain": [
       "                               filename              source       label\n",
       "1           speedy_cash_payday_desc.txt         Speedy Cash   predatory\n",
       "2            big_picture_loans_info.txt   Big Picture Loans   predatory\n",
       "3        ace_cash_express_loan_page.txt    ACE Cash Express   predatory\n",
       "4       check_city_payday_loan_info.txt          Check City   predatory\n",
       "5  cashnetusa_alternative_marketing.txt          CashNetUSA   predatory"
      ]
     },
     "execution_count": 26,
     "metadata": {},
     "output_type": "execute_result"
    }
   ],
   "source": [
    "# Load labels CSV\n",
    "labels_df = pd.read_csv(\"../data/metadata/data_labels.csv\", names=[\"filename\", \"source\", \"label\"])\n",
    "# Remove the first row if it contains header information\n",
    "if labels_df.iloc[0, 0] == \"filename\":\n",
    "    labels_df = labels_df.iloc[1:]\n",
    "labels_df.head()"
   ]
  },
  {
   "cell_type": "code",
   "execution_count": 31,
   "id": "3995a602",
   "metadata": {},
   "outputs": [
    {
     "name": "stdout",
     "output_type": "stream",
     "text": [
      "../data/raw/loan_documents/non_predatory/speedy_cash_payday_desc.txt\n",
      "File not found: ../data/raw/loan_documents/non_predatory/speedy_cash_payday_desc.txt\n",
      "../data/raw/loan_documents/non_predatory/big_picture_loans_info.txt\n",
      "File not found: ../data/raw/loan_documents/non_predatory/big_picture_loans_info.txt\n",
      "../data/raw/loan_documents/non_predatory/ace_cash_express_loan_page.txt\n",
      "File not found: ../data/raw/loan_documents/non_predatory/ace_cash_express_loan_page.txt\n",
      "../data/raw/loan_documents/non_predatory/check_city_payday_loan_info.txt\n",
      "File not found: ../data/raw/loan_documents/non_predatory/check_city_payday_loan_info.txt\n",
      "../data/raw/loan_documents/non_predatory/cashnetusa_alternative_marketing.txt\n",
      "File not found: ../data/raw/loan_documents/non_predatory/cashnetusa_alternative_marketing.txt\n",
      "../data/raw/loan_documents/non_predatory/check_n_go_payday_loan_page.txt\n",
      "File not found: ../data/raw/loan_documents/non_predatory/check_n_go_payday_loan_page.txt\n",
      "../data/raw/loan_documents/non_predatory/ficus_bank_loan_estimate.txt\n",
      "../data/raw/loan_documents/non_predatory/idbglobal_personal_loan_disclosure.txt\n",
      "../data/raw/loan_documents/non_predatory/msu_disclosure_loan_agreement.txt\n",
      "../data/raw/loan_documents/non_predatory/psecu_consumer_agreement.txt\n",
      "../data/raw/loan_documents/non_predatory/united_trades_fcu_consumer_loan.txt\n"
     ]
    }
   ],
   "source": [
    "texts = []\n",
    "\n",
    "for idx, row in labels_df.iterrows():\n",
    "    fname = row[\"filename\"]\n",
    "    label = row[\"label\"]\n",
    "    folder = \"predatory\" if label == \"predatory\" else \"non_predatory\"\n",
    "    file_path = os.path.join(\"..\", \"data\", \"raw\", \"loan_documents\", folder, fname)\n",
    "    \n",
    "    print(file_path)  # <--- ADD THIS\n",
    "\n",
    "    try:\n",
    "        with open(file_path, \"r\", encoding=\"utf-8\") as f:\n",
    "            text = f.read()\n",
    "    except FileNotFoundError:\n",
    "        print(f\"File not found: {file_path}\")\n",
    "        text = \"\"\n",
    "    texts.append(text)\n",
    "\n"
   ]
  },
  {
   "cell_type": "code",
   "execution_count": 28,
   "id": "55086df3",
   "metadata": {},
   "outputs": [
    {
     "data": {
      "text/html": [
       "<div>\n",
       "<style scoped>\n",
       "    .dataframe tbody tr th:only-of-type {\n",
       "        vertical-align: middle;\n",
       "    }\n",
       "\n",
       "    .dataframe tbody tr th {\n",
       "        vertical-align: top;\n",
       "    }\n",
       "\n",
       "    .dataframe thead th {\n",
       "        text-align: right;\n",
       "    }\n",
       "</style>\n",
       "<table border=\"1\" class=\"dataframe\">\n",
       "  <thead>\n",
       "    <tr style=\"text-align: right;\">\n",
       "      <th></th>\n",
       "      <th>filename</th>\n",
       "      <th>source</th>\n",
       "      <th>label</th>\n",
       "      <th>text</th>\n",
       "    </tr>\n",
       "  </thead>\n",
       "  <tbody>\n",
       "    <tr>\n",
       "      <th>1</th>\n",
       "      <td>speedy_cash_payday_desc.txt</td>\n",
       "      <td>Speedy Cash</td>\n",
       "      <td>predatory</td>\n",
       "      <td></td>\n",
       "    </tr>\n",
       "    <tr>\n",
       "      <th>2</th>\n",
       "      <td>big_picture_loans_info.txt</td>\n",
       "      <td>Big Picture Loans</td>\n",
       "      <td>predatory</td>\n",
       "      <td></td>\n",
       "    </tr>\n",
       "  </tbody>\n",
       "</table>\n",
       "</div>"
      ],
      "text/plain": [
       "                      filename              source       label text\n",
       "1  speedy_cash_payday_desc.txt         Speedy Cash   predatory     \n",
       "2   big_picture_loans_info.txt   Big Picture Loans   predatory     "
      ]
     },
     "execution_count": 28,
     "metadata": {},
     "output_type": "execute_result"
    }
   ],
   "source": [
    "# Attach the text to your dataframe\n",
    "labels_df['text'] = texts\n",
    "labels_df.head(2)"
   ]
  },
  {
   "cell_type": "code",
   "execution_count": 29,
   "id": "31c9f9bf",
   "metadata": {},
   "outputs": [
    {
     "data": {
      "text/plain": [
       "filename    0\n",
       "source      0\n",
       "label       0\n",
       "text        0\n",
       "dtype: int64"
      ]
     },
     "execution_count": 29,
     "metadata": {},
     "output_type": "execute_result"
    }
   ],
   "source": [
    "labels_df.isnull().sum()"
   ]
  },
  {
   "cell_type": "code",
   "execution_count": 30,
   "id": "dcb1acff",
   "metadata": {},
   "outputs": [],
   "source": [
    "# Save to CSV for later modeling\n",
    "labels_df.to_csv(\"../data/metadata/loan_texts.csv\", index=False)\n"
   ]
  }
 ],
 "metadata": {
  "kernelspec": {
   "display_name": "Python 3",
   "language": "python",
   "name": "python3"
  },
  "language_info": {
   "codemirror_mode": {
    "name": "ipython",
    "version": 3
   },
   "file_extension": ".py",
   "mimetype": "text/x-python",
   "name": "python",
   "nbconvert_exporter": "python",
   "pygments_lexer": "ipython3",
   "version": "3.9.18"
  }
 },
 "nbformat": 4,
 "nbformat_minor": 5
}
