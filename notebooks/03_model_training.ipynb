{
 "cells": [
  {
   "cell_type": "code",
   "execution_count": 1,
   "id": "5f59074a",
   "metadata": {},
   "outputs": [
    {
     "name": "stdout",
     "output_type": "stream",
     "text": [
      "Intel MKL WARNING: Support of Intel(R) Streaming SIMD Extensions 4.2 (Intel(R) SSE4.2) enabled only processors has been deprecated. Intel oneAPI Math Kernel Library 2025.0 will require Intel(R) Advanced Vector Extensions (Intel(R) AVX) instructions.\n",
      "Intel MKL WARNING: Support of Intel(R) Streaming SIMD Extensions 4.2 (Intel(R) SSE4.2) enabled only processors has been deprecated. Intel oneAPI Math Kernel Library 2025.0 will require Intel(R) Advanced Vector Extensions (Intel(R) AVX) instructions.\n"
     ]
    },
    {
     "data": {
      "text/html": [
       "<div>\n",
       "<style scoped>\n",
       "    .dataframe tbody tr th:only-of-type {\n",
       "        vertical-align: middle;\n",
       "    }\n",
       "\n",
       "    .dataframe tbody tr th {\n",
       "        vertical-align: top;\n",
       "    }\n",
       "\n",
       "    .dataframe thead th {\n",
       "        text-align: right;\n",
       "    }\n",
       "</style>\n",
       "<table border=\"1\" class=\"dataframe\">\n",
       "  <thead>\n",
       "    <tr style=\"text-align: right;\">\n",
       "      <th></th>\n",
       "      <th>filename</th>\n",
       "      <th>source</th>\n",
       "      <th>label</th>\n",
       "      <th>text</th>\n",
       "      <th>clean_text</th>\n",
       "    </tr>\n",
       "  </thead>\n",
       "  <tbody>\n",
       "    <tr>\n",
       "      <th>0</th>\n",
       "      <td>speedy_cash_payday_desc.txt</td>\n",
       "      <td>Speedy Cash</td>\n",
       "      <td>predatory</td>\n",
       "      <td>PAYDAY LOANS\\nConvenient.\\nQuick. Reliable.\\na...</td>\n",
       "      <td>payday loans convenient quick reliable apply n...</td>\n",
       "    </tr>\n",
       "    <tr>\n",
       "      <th>1</th>\n",
       "      <td>big_picture_loans_info.txt</td>\n",
       "      <td>Big Picture Loans</td>\n",
       "      <td>predatory</td>\n",
       "      <td>\\nBig Picture Loans\\nHomeRequirements\\nRequire...</td>\n",
       "      <td>big picture loans homerequirements requirement...</td>\n",
       "    </tr>\n",
       "    <tr>\n",
       "      <th>2</th>\n",
       "      <td>ace_cash_express_loan_page.txt</td>\n",
       "      <td>ACE Cash Express</td>\n",
       "      <td>predatory</td>\n",
       "      <td>Payday Loans at ACE Cash Express\\nPayday loans...</td>\n",
       "      <td>payday loans at ace cash express payday loans ...</td>\n",
       "    </tr>\n",
       "    <tr>\n",
       "      <th>3</th>\n",
       "      <td>check_city_payday_loan_info.txt</td>\n",
       "      <td>Check City</td>\n",
       "      <td>predatory</td>\n",
       "      <td>Payday Loans Online Apply Today!\\nNeed cash be...</td>\n",
       "      <td>payday loans online apply today need cash befo...</td>\n",
       "    </tr>\n",
       "    <tr>\n",
       "      <th>4</th>\n",
       "      <td>cashnetusa_alternative_marketing.txt</td>\n",
       "      <td>CashNetUSA</td>\n",
       "      <td>predatory</td>\n",
       "      <td>Menu\\nLog In\\nCashNetUSA\\nPayday Loan Alternat...</td>\n",
       "      <td>menu log in cashnetusa payday loan alternative...</td>\n",
       "    </tr>\n",
       "  </tbody>\n",
       "</table>\n",
       "</div>"
      ],
      "text/plain": [
       "                               filename              source      label  \\\n",
       "0           speedy_cash_payday_desc.txt         Speedy Cash  predatory   \n",
       "1            big_picture_loans_info.txt   Big Picture Loans  predatory   \n",
       "2        ace_cash_express_loan_page.txt    ACE Cash Express  predatory   \n",
       "3       check_city_payday_loan_info.txt          Check City  predatory   \n",
       "4  cashnetusa_alternative_marketing.txt          CashNetUSA  predatory   \n",
       "\n",
       "                                                text  \\\n",
       "0  PAYDAY LOANS\\nConvenient.\\nQuick. Reliable.\\na...   \n",
       "1  \\nBig Picture Loans\\nHomeRequirements\\nRequire...   \n",
       "2  Payday Loans at ACE Cash Express\\nPayday loans...   \n",
       "3  Payday Loans Online Apply Today!\\nNeed cash be...   \n",
       "4  Menu\\nLog In\\nCashNetUSA\\nPayday Loan Alternat...   \n",
       "\n",
       "                                          clean_text  \n",
       "0  payday loans convenient quick reliable apply n...  \n",
       "1  big picture loans homerequirements requirement...  \n",
       "2  payday loans at ace cash express payday loans ...  \n",
       "3  payday loans online apply today need cash befo...  \n",
       "4  menu log in cashnetusa payday loan alternative...  "
      ]
     },
     "execution_count": 1,
     "metadata": {},
     "output_type": "execute_result"
    }
   ],
   "source": [
    "# 03: Feature Extraction - TF-IDF\n",
    "\n",
    "import pandas as pd\n",
    "from sklearn.feature_extraction.text import TfidfVectorizer\n",
    "import pickle\n",
    "\n",
    "\n",
    "df = pd.read_csv(\"../data/metadata/loan_texts_clean.csv\")\n",
    "df.head()\n"
   ]
  },
  {
   "cell_type": "code",
   "execution_count": 3,
   "id": "cb1b67c2",
   "metadata": {},
   "outputs": [
    {
     "name": "stdout",
     "output_type": "stream",
     "text": [
      "TF-IDF matrix shape: (11, 2193)\n"
     ]
    }
   ],
   "source": [
    "\n",
    "# TF-IDF Vectorizer\n",
    "vectorizer = TfidfVectorizer(\n",
    "    max_features=5000,  # you can adjust if needed\n",
    "    stop_words='english'\n",
    ")\n",
    "\n",
    "X = vectorizer.fit_transform(df['clean_text'])\n",
    "\n",
    "# Checking shape\n",
    "print(f\"TF-IDF matrix shape: {X.shape}\")"
   ]
  },
  {
   "cell_type": "code",
   "execution_count": 4,
   "id": "a2db9918",
   "metadata": {},
   "outputs": [],
   "source": [
    "# Save the TF-IDF matrix and the labels\n",
    "with open(\"../data/processed/tfidf_features.pkl\", \"wb\") as f:\n",
    "    pickle.dump(X, f)\n",
    "\n",
    "df[['label']].to_csv(\"../data/processed/labels.csv\", index=False)\n",
    "\n",
    "# Save the TF-IDF vocabulary for reference\n",
    "with open(\"../data/processed/tfidf_vectorizer.pkl\", \"wb\") as f:\n",
    "    pickle.dump(vectorizer, f)\n"
   ]
  },
  {
   "cell_type": "code",
   "execution_count": null,
   "id": "64c0d8fe",
   "metadata": {},
   "outputs": [],
   "source": []
  }
 ],
 "metadata": {
  "kernelspec": {
   "display_name": "Python 3",
   "language": "python",
   "name": "python3"
  },
  "language_info": {
   "codemirror_mode": {
    "name": "ipython",
    "version": 3
   },
   "file_extension": ".py",
   "mimetype": "text/x-python",
   "name": "python",
   "nbconvert_exporter": "python",
   "pygments_lexer": "ipython3",
   "version": "3.9.18"
  }
 },
 "nbformat": 4,
 "nbformat_minor": 5
}
