{
 "cells": [
  {
   "cell_type": "markdown",
   "id": "9dc66b73",
   "metadata": {},
   "source": [
    "# Loan Text Analysis "
   ]
  },
  {
   "cell_type": "markdown",
   "id": "484d026c",
   "metadata": {},
   "source": [
    "## Setup"
   ]
  },
  {
   "cell_type": "code",
   "execution_count": 23,
   "id": "7922862e",
   "metadata": {},
   "outputs": [],
   "source": [
    "# Standard Imports\n",
    "import pandas as pd\n",
    "import numpy as np\n",
    "import os\n",
    "import matplotlib.pyplot as plt\n",
    "import seaborn as sns\n",
    "import random\n",
    "import glob\n",
    "\n",
    "# Modeling\n",
    "from sklearn.model_selection import train_test_split\n",
    "from sklearn.feature_extraction.text import TfidfVectorizer\n",
    "from sklearn.linear_model import LogisticRegression\n",
    "from sklearn.naive_bayes import MultinomialNB\n",
    "from sklearn.ensemble import RandomForestClassifier\n",
    "from sklearn.svm import LinearSVC, SVC\n",
    "from sklearn.metrics import classification_report, confusion_matrix, precision_score, recall_score, f1_score\n",
    "from sklearn.model_selection import GridSearchCV\n",
    "\n",
    "\n",
    "# HuggingFace transformers\n",
    "from transformers import BertTokenizerFast, BertForSequenceClassification, Trainer, TrainingArguments\n",
    "from datasets import Dataset\n",
    "import torch\n",
    "\n",
    "pd.set_option('display.max_colwidth', 300)"
   ]
  },
  {
   "cell_type": "markdown",
   "id": "1a91d1ea",
   "metadata": {},
   "source": [
    "## 2: Load Data"
   ]
  },
  {
   "cell_type": "markdown",
   "id": "77c6e368",
   "metadata": {},
   "source": [
    "**much of data loading is commented out to save data and because supplementary files are not in github for storage saving reasons"
   ]
  },
  {
   "cell_type": "code",
   "execution_count": null,
   "id": "495dd938",
   "metadata": {},
   "outputs": [],
   "source": [
    "\"\"\" \n",
    "# Reddit CSV\n",
    "reddit_df = pd.read_csv(\"../data/processed/large_sample_reddit_predatory_loan_posts_cleaned.csv\")\n",
    "reddit_df = reddit_df[['post_text', 'label']]\n",
    "reddit_df.columns = ['text', 'label'] \n",
    "\"\"\""
   ]
  },
  {
   "cell_type": "code",
   "execution_count": null,
   "id": "42f42278",
   "metadata": {},
   "outputs": [],
   "source": [
    "\"\"\" \n",
    "# Scraped Fair Loans (Older data)\n",
    "webpages_df = pd.read_csv(\"../data/processed/fair_loan_texts.csv\")\n",
    "pdf_df = pd.read_csv(\"../data/processed/fair_loan_pdfs.csv\")\n",
    "webpages_df['label'] = 'non_predatory'\n",
    "pdf_df['label'] = 'non_predatory'\n",
    "webpages_df = webpages_df[['text', 'label']]\n",
    "pdf_df = pdf_df[['text', 'label']] \n",
    "\"\"\""
   ]
  },
  {
   "cell_type": "code",
   "execution_count": null,
   "id": "81728d10",
   "metadata": {},
   "outputs": [],
   "source": [
    "\"\"\" \n",
    "# Scraped Fair Loans (New)\n",
    "fair_webpaths = glob.glob(\"../data/raw/web_scrapes/fair_loans/webpages/*.txt\")\n",
    "fair_texts = [open(f,\"r\",encoding=\"utf-8\").read() for f in fair_webpaths]\n",
    "new_fair_df = pd.DataFrame({'text': fair_texts, 'label': 'non_predatory'})\n",
    "\n",
    "# Scraped Predatory Loans (New)\n",
    "pred_webpaths = glob.glob(\"../data/raw/web_scrapes/predatory_loans/webpages/*.txt\")\n",
    "pred_texts = [open(f,\"r\",encoding=\"utf-8\").read() for f in pred_webpaths]\n",
    "new_pred_df = pd.DataFrame({'text': pred_texts, 'label': 'predatory'}) \n",
    "\"\"\""
   ]
  },
  {
   "cell_type": "code",
   "execution_count": null,
   "id": "2ee5d60a",
   "metadata": {},
   "outputs": [],
   "source": [
    "\"\"\" \n",
    "## Combine All\n",
    "full_df = pd.concat([\n",
    "    reddit_df,\n",
    "    webpages_df,\n",
    "    pdf_df,\n",
    "    new_fair_df,\n",
    "    new_pred_df\n",
    "], axis=0).reset_index(drop=True) \n",
    "\"\"\""
   ]
  },
  {
   "cell_type": "code",
   "execution_count": null,
   "id": "6d709d54",
   "metadata": {},
   "outputs": [],
   "source": [
    "\"\"\"\n",
    " # # Final balanced dataset\n",
    "full_df = full_df.dropna(subset=['text', 'label'])\n",
    "full_df = full_df[full_df['text'].str.strip() != \"\"].reset_index(drop=True)\n",
    "\n",
    "# Clean known keyword leakage\n",
    "KEYWORDS = [\n",
    "    \"credit union\", \"union\", \"payday\", \"loanmart\", \"loan mart\", \"lending\", \n",
    "    \"cashnet\", \"advance america\", \"quick cash\", \"title loan\", \"speedy cash\",\n",
    "    \"tribal loan\", \"easy finance\", \"short-term loan\", \"bad credit loan\",\n",
    "    \"instant cash\", \"get money\", \"fast loan\", \"borrow instantly\"\n",
    "]\n",
    "\n",
    "def clean_keywords(text):\n",
    "    for word in KEYWORDS:\n",
    "        text = text.lower().replace(word, \"\")\n",
    "    return text\n",
    "\n",
    "full_df['text_clean'] = full_df['text'].apply(clean_keywords)\n",
    "full_df = full_df.drop_duplicates(subset=[\"text_clean\"])\n",
    "\n",
    "# Balance the dataset across label\n",
    "min_size = full_df['label'].value_counts().min()\n",
    "full_df = full_df.groupby(\"label\").sample(n=min_size, random_state=42).reset_index(drop=True) \n",
    "\"\"\"\n"
   ]
  },
  {
   "cell_type": "code",
   "execution_count": null,
   "id": "ef3a3c63",
   "metadata": {},
   "outputs": [],
   "source": [
    "\"\"\" \n",
    "# Save cleaned full_df\n",
    "full_df.to_csv(\"../data/processed/full_dataset_final.csv\", index=False)\n",
    "full_df[['text', 'text_clean', 'label']].to_csv(\"../data/processed/full_dataset_with_cleaned.csv\", index=False) \n",
    "\"\"\"\n"
   ]
  },
  {
   "cell_type": "code",
   "execution_count": null,
   "id": "eac04327",
   "metadata": {},
   "outputs": [],
   "source": [
    "### load full_df csv from data loading and processing above\n",
    "full_df = pd.read_csv(\"../data/processed/full_dataset_final.csv\")\n"
   ]
  },
  {
   "cell_type": "markdown",
   "id": "58ae8200",
   "metadata": {},
   "source": [
    "## 3: ML Modeling"
   ]
  },
  {
   "cell_type": "code",
   "execution_count": 30,
   "id": "7adc1a4f",
   "metadata": {},
   "outputs": [],
   "source": [
    "# Train-test split\n",
    "X_train, X_test, y_train, y_test = train_test_split(\n",
    "    full_df['text_clean'],\n",
    "    full_df['label'],\n",
    "    test_size=0.2,\n",
    "    random_state=42,\n",
    "    stratify=full_df['label']\n",
    ")\n"
   ]
  },
  {
   "cell_type": "code",
   "execution_count": 31,
   "id": "41a2290a",
   "metadata": {},
   "outputs": [],
   "source": [
    "# Create a TF-IDF vectorizer\n",
    "tfidf = TfidfVectorizer(\n",
    "    max_features=5000,\n",
    "    ngram_range=(1, 2), # Unigrams and bigrams\n",
    "    lowercase=True,\n",
    "    stop_words='english'\n",
    ")\n",
    "\n",
    "X_train_vec = tfidf.fit_transform(X_train)\n",
    "X_test_vec = tfidf.transform(X_test)"
   ]
  },
  {
   "cell_type": "markdown",
   "id": "65bdedcc",
   "metadata": {},
   "source": [
    "### Naive Bayes Classifier"
   ]
  },
  {
   "cell_type": "code",
   "execution_count": 32,
   "id": "70d1d709",
   "metadata": {},
   "outputs": [
    {
     "name": "stdout",
     "output_type": "stream",
     "text": [
      "=== Naive Bayes Classification Report ===\n",
      "               precision    recall  f1-score   support\n",
      "\n",
      "non_predatory       0.97      0.99      0.98       144\n",
      "    predatory       0.99      0.97      0.98       144\n",
      "\n",
      "     accuracy                           0.98       288\n",
      "    macro avg       0.98      0.98      0.98       288\n",
      " weighted avg       0.98      0.98      0.98       288\n",
      "\n"
     ]
    }
   ],
   "source": [
    "# Train Naive Bayes\n",
    "nb = MultinomialNB()\n",
    "nb.fit(X_train_vec, y_train)\n",
    "y_pred_nb = nb.predict(X_test_vec)\n",
    "\n",
    "# Evaluate\n",
    "print(\"=== Naive Bayes Classification Report ===\")\n",
    "print(classification_report(y_test, y_pred_nb))\n"
   ]
  },
  {
   "cell_type": "code",
   "execution_count": 33,
   "id": "68c2862d",
   "metadata": {},
   "outputs": [],
   "source": [
    "### function to plot confusion matrices for models\n",
    "from sklearn.metrics import confusion_matrix\n",
    "def plot_confusion(y_true, y_pred, title=\"Confusion Matrix\"):\n",
    "    cm = confusion_matrix(y_true, y_pred, labels=[\"predatory\", \"non_predatory\"])\n",
    "    plt.figure(figsize=(6, 5))\n",
    "    sns.heatmap(cm, annot=True, fmt='d', cmap='Blues', xticklabels=[\"predatory\", \"non_predatory\"], yticklabels=[\"predatory\", \"non_predatory\"])\n",
    "    plt.title(title)\n",
    "    plt.ylabel('Actual')\n",
    "    plt.xlabel('Predicted')\n",
    "    plt.show()"
   ]
  },
  {
   "cell_type": "markdown",
   "id": "d0e664eb",
   "metadata": {},
   "source": [
    "### Logistic Regression"
   ]
  },
  {
   "cell_type": "code",
   "execution_count": 34,
   "id": "edb9fb08",
   "metadata": {},
   "outputs": [
    {
     "name": "stdout",
     "output_type": "stream",
     "text": [
      "Logistic Regression Classification Report:\n",
      "               precision    recall  f1-score   support\n",
      "\n",
      "non_predatory       0.98      0.99      0.99       144\n",
      "    predatory       0.99      0.98      0.99       144\n",
      "\n",
      "     accuracy                           0.99       288\n",
      "    macro avg       0.99      0.99      0.99       288\n",
      " weighted avg       0.99      0.99      0.99       288\n",
      "\n"
     ]
    }
   ],
   "source": [
    "## train log reg\n",
    "\n",
    "lr = LogisticRegression(max_iter=1000)\n",
    "lr.fit(X_train_vec, y_train)\n",
    "y_pred_lr = lr.predict(X_test_vec)\n",
    "\n",
    "print(\"Logistic Regression Classification Report:\")\n",
    "print(classification_report(y_test, y_pred_lr))\n"
   ]
  },
  {
   "cell_type": "code",
   "execution_count": 35,
   "id": "8acb79dc",
   "metadata": {},
   "outputs": [
    {
     "data": {
      "image/png": "[encoded data removed]",
      "text/plain": [
       "<Figure size 600x500 with 2 Axes>"
      ]
     },
     "metadata": {},
     "output_type": "display_data"
    }
   ],
   "source": [
    "# confusion matrix for Logistic Regression\n",
    "plot_confusion(y_test, y_pred_lr, \"Logistic Regression Confusion Matrix\")"
   ]
  },
  {
   "cell_type": "markdown",
   "id": "69f6280a",
   "metadata": {},
   "source": [
    "### Random Forest"
   ]
  },
  {
   "cell_type": "code",
   "execution_count": 36,
   "id": "814fb0a4",
   "metadata": {},
   "outputs": [
    {
     "name": "stdout",
     "output_type": "stream",
     "text": [
      "Random Forest Classification Report:\n",
      "               precision    recall  f1-score   support\n",
      "\n",
      "non_predatory       0.96      1.00      0.98       144\n",
      "    predatory       1.00      0.96      0.98       144\n",
      "\n",
      "     accuracy                           0.98       288\n",
      "    macro avg       0.98      0.98      0.98       288\n",
      " weighted avg       0.98      0.98      0.98       288\n",
      "\n"
     ]
    }
   ],
   "source": [
    "##Train Random forests\n",
    "\n",
    "rf = RandomForestClassifier()\n",
    "rf.fit(X_train_vec, y_train)\n",
    "y_pred_rf = rf.predict(X_test_vec)\n",
    "\n",
    "print(\"Random Forest Classification Report:\")\n",
    "print(classification_report(y_test, y_pred_rf))"
   ]
  },
  {
   "cell_type": "code",
   "execution_count": 37,
   "id": "4ed1f7b1",
   "metadata": {},
   "outputs": [
    {
     "data": {
      "image/png": "[encoded data removed]",
      "text/plain": [
       "<Figure size 600x500 with 2 Axes>"
      ]
     },
     "metadata": {},
     "output_type": "display_data"
    }
   ],
   "source": [
    "# Confusion matrix For Random Forest\n",
    "plot_confusion(y_test, y_pred_rf, \"Random Forest Confusion Matrix\")"
   ]
  },
  {
   "cell_type": "code",
   "execution_count": 38,
   "id": "c24b5d3b",
   "metadata": {},
   "outputs": [
    {
     "name": "stdout",
     "output_type": "stream",
     "text": [
      "Tuned Random Forest Classification Report:\n",
      "               precision    recall  f1-score   support\n",
      "\n",
      "non_predatory       0.96      1.00      0.98       144\n",
      "    predatory       1.00      0.96      0.98       144\n",
      "\n",
      "     accuracy                           0.98       288\n",
      "    macro avg       0.98      0.98      0.98       288\n",
      " weighted avg       0.98      0.98      0.98       288\n",
      "\n"
     ]
    }
   ],
   "source": [
    "##light Model tuning for RF\n",
    "\n",
    "# Try a slightly smaller and slightly larger depth to see if better\n",
    "rf_model = RandomForestClassifier(\n",
    "    n_estimators=100,\n",
    "    max_depth=10,       # Try 10 instead of default (None)\n",
    "    min_samples_split=5,  # Avoid too much overfitting\n",
    "    random_state=42\n",
    ")\n",
    "rf_model.fit(X_train_vec, y_train)\n",
    "y_pred_rf_tuned = rf_model.predict(X_test_vec)\n",
    "\n",
    "print(\"Tuned Random Forest Classification Report:\")\n",
    "print(classification_report(y_test, y_pred_rf))\n",
    "\n"
   ]
  },
  {
   "cell_type": "markdown",
   "id": "ef356b08",
   "metadata": {},
   "source": [
    "### Support Vector Machine (SVM)"
   ]
  },
  {
   "cell_type": "markdown",
   "id": "8adee39f",
   "metadata": {},
   "source": [
    "### Random Forest Tuning with GridSearchCV"
   ]
  },
  {
   "cell_type": "code",
   "execution_count": 39,
   "id": "e46d9367",
   "metadata": {},
   "outputs": [
    {
     "name": "stdout",
     "output_type": "stream",
     "text": [
      "Fitting 3 folds for each of 108 candidates, totalling 324 fits\n",
      "Best Random Forest params: {'max_depth': None, 'max_features': 'log2', 'min_samples_leaf': 1, 'min_samples_split': 5, 'n_estimators': 200}\n"
     ]
    }
   ],
   "source": [
    "\n",
    "# Set up gridseachcv for Random Forest\n",
    "from sklearn.model_selection import GridSearchCV\n",
    "# Define the parameter grid\n",
    "param_grid = {\n",
    "    'n_estimators': [100, 200],\n",
    "    'max_depth': [None, 10, 20],\n",
    "    'min_samples_split': [2, 5, 10],\n",
    "    'min_samples_leaf': [1, 2, 4],\n",
    "    'max_features': ['sqrt', 'log2']\n",
    "}\n",
    "\n",
    "# Set up the Grid Search\n",
    "rf = RandomForestClassifier(random_state=42)\n",
    "grid_search = GridSearchCV(rf, param_grid, cv=3, n_jobs=-1, verbose=1)\n",
    "\n",
    "# Fit\n",
    "grid_search.fit(X_train_vec, y_train)\n",
    "\n",
    "# Best model\n",
    "best_rf_model = grid_search.best_estimator_\n",
    "\n",
    "# Predict\n",
    "y_pred_best_rf = best_rf_model.predict(X_test_vec)\n",
    "\n",
    "# See best parameters\n",
    "print(\"Best Random Forest params:\", grid_search.best_params_)\n"
   ]
  },
  {
   "cell_type": "code",
   "execution_count": 40,
   "id": "a87d01f2",
   "metadata": {},
   "outputs": [
    {
     "name": "stdout",
     "output_type": "stream",
     "text": [
      "Tuned Random Forest Classification Report:\n",
      "               precision    recall  f1-score   support\n",
      "\n",
      "non_predatory       0.96      1.00      0.98       144\n",
      "    predatory       1.00      0.96      0.98       144\n",
      "\n",
      "     accuracy                           0.98       288\n",
      "    macro avg       0.98      0.98      0.98       288\n",
      " weighted avg       0.98      0.98      0.98       288\n",
      "\n"
     ]
    }
   ],
   "source": [
    "###Best Random Forest params: {'max_depth': None, 'max_features': 'log2', 'min_samples_leaf': 1, 'min_samples_split': 5, 'n_estimators': 200}\n",
    "\n",
    "rf_model = RandomForestClassifier(\n",
    "    n_estimators=200,\n",
    "    min_samples_split=5,\n",
    "    min_samples_leaf=1,\n",
    "    random_state=42,\n",
    "    max_features='log2'\n",
    ")\n",
    "rf_model.fit(X_train_vec, y_train)\n",
    "y_pred_rf = rf_model.predict(X_test_vec)\n",
    "print(\"Tuned Random Forest Classification Report:\")\n",
    "print(classification_report(y_test, y_pred_rf))"
   ]
  },
  {
   "cell_type": "code",
   "execution_count": 41,
   "id": "20182427",
   "metadata": {},
   "outputs": [
    {
     "data": {
      "image/png": "[encoded data removed]",
      "text/plain": [
       "<Figure size 1000x600 with 1 Axes>"
      ]
     },
     "metadata": {},
     "output_type": "display_data"
    }
   ],
   "source": [
    "# Feature identification(important to see what the model is picking up on esprecially because we removed key classifying words 'credit loans' etc.)\n",
    "# Get feature importances from the best RF model\n",
    "importances = rf_model.feature_importances_\n",
    "feature_names = tfidf.get_feature_names_out()\n",
    "indices = np.argsort(importances)[::-1][:20]\n",
    "\n",
    "plt.figure(figsize=(10, 6))\n",
    "plt.bar(range(len(indices)), importances[indices], align='center')\n",
    "plt.xticks(range(len(indices)), [feature_names[i] for i in indices], rotation=45, ha='right')\n",
    "plt.title(\"Top 20 Important Words in Random Forest\")\n",
    "plt.xlabel(\"Word/Phrase\")\n",
    "plt.ylabel(\"Importance Score\")\n",
    "plt.tight_layout()\n",
    "plt.show()"
   ]
  },
  {
   "cell_type": "markdown",
   "id": "041827e8",
   "metadata": {},
   "source": [
    "# **Summary of findings from Random Forest**\n",
    "We trained a Random Forest classifier on a cleaned dataset of loan documents to identify predatory lending patterns. After fine-tuning using GridSearchCV, the best-performing model used 200 estimators, max_features='log2', and regularization settings to prevent overfitting. The model was trained on TF-IDF features with both unigrams and bigrams to capture single words and short phrases.\n",
    "\n",
    "The final model achieved 98% accuracy on the test set, with:\n",
    "\n",
    "Precision: 0.96 (non-predatory), 1.00 (predatory)\n",
    "\n",
    "Recall: 1.00 (non-predatory), 0.96 (predatory)\n",
    "\n",
    "F1-score: 0.98 across both classes\n",
    "\n",
    "This performance indicates the model is well-balanced and highly effective at identifying both predatory and non-predatory loans, even after obvious keywords (e.g., “payday”, “loanmart”) were removed from the data. The use of n-gram TF-IDF allowed the model to detect subtle linguistic patterns, though its understanding is limited to surface-level co-occurrence rather than deep contextual meaning.\n",
    "\n",
    "Overall, the Random Forest serves as a strong baseline model, successfully generalizing across cleaned text data without relying on obvious red-flag terms.\n"
   ]
  },
  {
   "cell_type": "code",
   "execution_count": 42,
   "id": "4a72d85c",
   "metadata": {},
   "outputs": [
    {
     "name": "stdout",
     "output_type": "stream",
     "text": [
      "=== SVM classification report ===\n",
      "               precision    recall  f1-score   support\n",
      "\n",
      "non_predatory       0.98      0.99      0.99       144\n",
      "    predatory       0.99      0.98      0.99       144\n",
      "\n",
      "     accuracy                           0.99       288\n",
      "    macro avg       0.99      0.99      0.99       288\n",
      " weighted avg       0.99      0.99      0.99       288\n",
      "\n"
     ]
    }
   ],
   "source": [
    "svm = LinearSVC(max_iter=5000)\n",
    "svm.fit(X_train_vec, y_train)\n",
    "y_pred_svm = svm.predict(X_test_vec)\n",
    "print(\"=== SVM classification report ===\")\n",
    "print(classification_report(y_test, y_pred_svm))\n"
   ]
  },
  {
   "cell_type": "markdown",
   "id": "d8389012",
   "metadata": {},
   "source": [
    "### Grid Search for SVM"
   ]
  },
  {
   "cell_type": "code",
   "execution_count": 43,
   "id": "752435c0",
   "metadata": {},
   "outputs": [
    {
     "name": "stdout",
     "output_type": "stream",
     "text": [
      "Fitting 3 folds for each of 12 candidates, totalling 36 fits\n",
      "Best SVM params: {'C': 10, 'gamma': 'scale', 'kernel': 'linear'}\n"
     ]
    }
   ],
   "source": [
    "# Set up a grid to search \n",
    "param_grid = {\n",
    "    'C': [0.1, 1, 10],\n",
    "    'kernel': ['linear', 'rbf'],\n",
    "    'gamma': ['scale', 'auto']\n",
    "}\n",
    "# Set up the Grid Search\n",
    "svm = SVC(random_state=42)\n",
    "grid_search = GridSearchCV(svm, param_grid, cv=3, n_jobs=-1, verbose=1)\n",
    "# Fit\n",
    "grid_search.fit(X_train_vec, y_train)\n",
    "# Best model    \n",
    "best_svm_model = grid_search.best_estimator_\n",
    "# Predict\n",
    "y_pred_best_svm = best_svm_model.predict(X_test_vec)\n",
    "# See best parameters\n",
    "print(\"Best SVM params:\", grid_search.best_params_)"
   ]
  },
  {
   "cell_type": "code",
   "execution_count": 44,
   "id": "5f2dd90d",
   "metadata": {},
   "outputs": [
    {
     "name": "stdout",
     "output_type": "stream",
     "text": [
      "Tuned SVM Report:\n",
      "               precision    recall  f1-score   support\n",
      "\n",
      "non_predatory       0.98      0.99      0.98       144\n",
      "    predatory       0.99      0.98      0.98       144\n",
      "\n",
      "     accuracy                           0.98       288\n",
      "    macro avg       0.98      0.98      0.98       288\n",
      " weighted avg       0.98      0.98      0.98       288\n",
      "\n"
     ]
    }
   ],
   "source": [
    "##Best SVM params: {'C': 10, 'gamma': 'scale', 'kernel': 'linear'}\n",
    "##Grid Search results for SVM:\n",
    "\n",
    "svm_model = SVC(\n",
    "    C=10,\n",
    "    gamma='scale',\n",
    "    kernel='linear',\n",
    "    random_state=42\n",
    ")\n",
    "svm_model.fit(X_train_vec, y_train)\n",
    "y_pred_svm = svm_model.predict(X_test_vec)\n",
    "print(\"Tuned SVM Report:\")\n",
    "print(classification_report(y_test, y_pred_svm))\n",
    "\n",
    "\n"
   ]
  },
  {
   "cell_type": "code",
   "execution_count": 45,
   "id": "3310173f",
   "metadata": {},
   "outputs": [
    {
     "data": {
      "image/png": "[encoded data removed]",
      "text/plain": [
       "<Figure size 1200x600 with 1 Axes>"
      ]
     },
     "metadata": {},
     "output_type": "display_data"
    },
    {
     "data": {
      "image/png": "[encoded data removed]",
      "text/plain": [
       "<Figure size 1200x600 with 1 Axes>"
      ]
     },
     "metadata": {},
     "output_type": "display_data"
    }
   ],
   "source": [
    "# Get feature names and coefficients\n",
    "feature_names = tfidf.get_feature_names_out()\n",
    "coefs = svm_model.coef_.toarray().flatten()\n",
    "\n",
    "# Top positive (predatory) and negative (non-predatory) indicators\n",
    "top_n = 15\n",
    "top_positive_indices = np.argsort(coefs)[-top_n:]\n",
    "top_negative_indices = np.argsort(coefs)[:top_n]\n",
    "\n",
    "plt.figure(figsize=(12, 6))\n",
    "plt.barh(range(top_n), coefs[top_positive_indices], color='red', label='Predatory')\n",
    "plt.yticks(range(top_n), [feature_names[i] for i in top_positive_indices])\n",
    "plt.title(\"Top Predictive Words for Predatory Loans (SVM)\")\n",
    "plt.xlabel(\"Coefficient Value\")\n",
    "plt.tight_layout()\n",
    "plt.show()\n",
    "\n",
    "plt.figure(figsize=(12, 6))\n",
    "plt.barh(range(top_n), coefs[top_negative_indices], color='blue', label='Non-Predatory')\n",
    "plt.yticks(range(top_n), [feature_names[i] for i in top_negative_indices])\n",
    "plt.title(\"Top Predictive Words for Non-Predatory Loans (SVM)\")\n",
    "plt.xlabel(\"Coefficient Value\")\n",
    "plt.tight_layout()\n",
    "plt.show()"
   ]
  },
  {
   "cell_type": "markdown",
   "id": "76527257",
   "metadata": {},
   "source": [
    "### Model Comparison"
   ]
  },
  {
   "cell_type": "code",
   "execution_count": 46,
   "id": "8dc2d071",
   "metadata": {},
   "outputs": [
    {
     "data": {
      "text/html": [
       "<div>\n",
       "<style scoped>\n",
       "    .dataframe tbody tr th:only-of-type {\n",
       "        vertical-align: middle;\n",
       "    }\n",
       "\n",
       "    .dataframe tbody tr th {\n",
       "        vertical-align: top;\n",
       "    }\n",
       "\n",
       "    .dataframe thead th {\n",
       "        text-align: right;\n",
       "    }\n",
       "</style>\n",
       "<table border=\"1\" class=\"dataframe\">\n",
       "  <thead>\n",
       "    <tr style=\"text-align: right;\">\n",
       "      <th></th>\n",
       "      <th>Model</th>\n",
       "      <th>Precision</th>\n",
       "      <th>Recall</th>\n",
       "      <th>F1-Score</th>\n",
       "    </tr>\n",
       "  </thead>\n",
       "  <tbody>\n",
       "    <tr>\n",
       "      <th>0</th>\n",
       "      <td>Logistic Regression</td>\n",
       "      <td>0.99</td>\n",
       "      <td>0.99</td>\n",
       "      <td>0.99</td>\n",
       "    </tr>\n",
       "    <tr>\n",
       "      <th>1</th>\n",
       "      <td>Naive Bayes</td>\n",
       "      <td>0.98</td>\n",
       "      <td>0.98</td>\n",
       "      <td>0.98</td>\n",
       "    </tr>\n",
       "    <tr>\n",
       "      <th>2</th>\n",
       "      <td>Random Forest</td>\n",
       "      <td>0.98</td>\n",
       "      <td>0.98</td>\n",
       "      <td>0.98</td>\n",
       "    </tr>\n",
       "    <tr>\n",
       "      <th>3</th>\n",
       "      <td>Random Forest (tuned)</td>\n",
       "      <td>0.98</td>\n",
       "      <td>0.98</td>\n",
       "      <td>0.98</td>\n",
       "    </tr>\n",
       "    <tr>\n",
       "      <th>4</th>\n",
       "      <td>Random Forest (grid search tuned)</td>\n",
       "      <td>0.98</td>\n",
       "      <td>0.98</td>\n",
       "      <td>0.98</td>\n",
       "    </tr>\n",
       "    <tr>\n",
       "      <th>5</th>\n",
       "      <td>SVM</td>\n",
       "      <td>0.98</td>\n",
       "      <td>0.98</td>\n",
       "      <td>0.98</td>\n",
       "    </tr>\n",
       "    <tr>\n",
       "      <th>6</th>\n",
       "      <td>SVM (grid search tuned)</td>\n",
       "      <td>0.98</td>\n",
       "      <td>0.98</td>\n",
       "      <td>0.98</td>\n",
       "    </tr>\n",
       "  </tbody>\n",
       "</table>\n",
       "</div>"
      ],
      "text/plain": [
       "                               Model  Precision  Recall  F1-Score\n",
       "0                Logistic Regression       0.99    0.99      0.99\n",
       "1                        Naive Bayes       0.98    0.98      0.98\n",
       "2                      Random Forest       0.98    0.98      0.98\n",
       "3              Random Forest (tuned)       0.98    0.98      0.98\n",
       "4  Random Forest (grid search tuned)       0.98    0.98      0.98\n",
       "5                                SVM       0.98    0.98      0.98\n",
       "6            SVM (grid search tuned)       0.98    0.98      0.98"
      ]
     },
     "execution_count": 46,
     "metadata": {},
     "output_type": "execute_result"
    }
   ],
   "source": [
    "# Define a helper function for multiclass\n",
    "def evaluate_model(name, y_true, y_pred, results=[]):\n",
    "    precision = precision_score(y_true, y_pred, average='weighted')\n",
    "    recall = recall_score(y_true, y_pred, average='weighted')\n",
    "    f1 = f1_score(y_true, y_pred, average='weighted')\n",
    "    results.append({\n",
    "        'Model': name,\n",
    "        'Precision': round(precision, 2),\n",
    "        'Recall': round(recall, 2),\n",
    "        'F1-Score': round(f1, 2)\n",
    "    })\n",
    "    return results\n",
    "\n",
    "# Initialize results list\n",
    "results = []\n",
    "\n",
    "# Evaluate each model\n",
    "results = evaluate_model(\"Logistic Regression\", y_test, y_pred_lr, results)\n",
    "results = evaluate_model(\"Naive Bayes\", y_test, y_pred_nb, results)\n",
    "results = evaluate_model(\"Random Forest\", y_test, y_pred_rf, results)\n",
    "results = evaluate_model(\"Random Forest (tuned)\", y_test, y_pred_rf_tuned, results)\n",
    "results = evaluate_model(\"Random Forest (grid search tuned)\", y_test, y_pred_best_rf, results)\n",
    "results = evaluate_model(\"SVM\", y_test, y_pred_svm, results)\n",
    "results = evaluate_model(\"SVM (grid search tuned)\", y_test, y_pred_best_svm, results)\n",
    "\n",
    "\n",
    "\n",
    "# Turn into DataFrame\n",
    "results_df = pd.DataFrame(results)\n",
    "\n",
    "# Display\n",
    "results_df\n"
   ]
  },
  {
   "cell_type": "markdown",
   "id": "a7fdd972",
   "metadata": {},
   "source": [
    "# **Summary of Model Comparison Findings**\n",
    "Across all models tested, performance was consistently strong, with precision, recall, and F1-scores ranging from 0.98 to 0.99.\n",
    "\n",
    "Logistic Regression and Grid Search–Tuned SVM performed best overall, each achieving a perfect 0.99 across all metrics. This suggests that even simpler models like Logistic Regression can perform exceptionally well when the data is well-preprocessed.\n",
    "\n",
    "Naive Bayes, baseline Random Forest, and untuned SVM all performed slightly below, but still delivered high and stable metrics of 0.98.\n",
    "\n",
    "Notably, fine-tuning Random Forest (both manually and via Grid Search) did not significantly improve performance — indicating that the base model was already near-optimal on this dataset.\n",
    "\n",
    "These results suggest that multiple traditional models are highly capable of identifying predatory loans, likely due to strong signal in the data and effective preprocessing (including n-gram features and keyword removal). The top-performing models (Logistic Regression and tuned SVM) may be preferred for their simplicity and interpretability.\n",
    "\n"
   ]
  },
  {
   "cell_type": "code",
   "execution_count": null,
   "id": "4404fbb8",
   "metadata": {},
   "outputs": [
    {
     "name": "stdout",
     "output_type": "stream",
     "text": [
      "Loading CFPB data...\n",
      "Total loan-related complaints: 131\n",
      "\n",
      "Prediction Label Distribution:\n",
      "predicted_label\n",
      "predatory        122\n",
      "non_predatory      9\n",
      "Name: count, dtype: int64\n"
     ]
    },
    {
     "name": "stderr",
     "output_type": "stream",
     "text": [
      "/var/folders/8m/1v1n1v412nxg01prt846nf_c0000gn/T/ipykernel_73802/3296459670.py:42: FutureWarning: \n",
      "\n",
      "Passing `palette` without assigning `hue` is deprecated and will be removed in v0.14.0. Assign the `x` variable to `hue` and set `legend=False` for the same effect.\n",
      "\n",
      "  sns.countplot(data=cfpb_results, x='predicted_label', palette='Set2')\n"
     ]
    },
    {
     "data": {
      "image/png": "[encoded data removed]",
      "text/plain": [
       "<Figure size 600x400 with 1 Axes>"
      ]
     },
     "metadata": {},
     "output_type": "display_data"
    }
   ],
   "source": [
    "## CFPB evaluation and implementation\n",
    "\n",
    "model = lr  # already trained logistic regression\n",
    "vectorizer = tfidf  # already fitted TfidfVectorizer\n",
    "\n",
    "# Evaluate on CFPB data\n",
    "def evaluate_on_cfpb(cfpb_path, trained_model, vectorizer):\n",
    "    print(\"Loading CFPB data...\")\n",
    "    cfpb_df = pd.read_csv(cfpb_path, low_memory=False)\n",
    "\n",
    "    if 'Consumer complaint narrative' not in cfpb_df.columns or 'Product' not in cfpb_df.columns:\n",
    "        raise ValueError(\"Expected columns 'Consumer complaint narrative' and 'Product' not found.\")\n",
    "\n",
    "    # Filter for loans\n",
    "    cfpb_df = cfpb_df[['Consumer complaint narrative', 'Product']].dropna()\n",
    "    cfpb_df = cfpb_df.rename(columns={'Consumer complaint narrative': 'text'})\n",
    "    loan_df = cfpb_df[cfpb_df['Product'].str.contains(\"loan\", case=False)]\n",
    "\n",
    "    print(f\"Total loan-related complaints: {len(loan_df)}\")\n",
    "\n",
    "    # Clean and vectorize\n",
    "    loan_df['text_clean'] = loan_df['text'].apply(clean_keywords)\n",
    "    loan_df = loan_df[loan_df['text_clean'].str.strip() != \"\"]\n",
    "    X_vec = vectorizer.transform(loan_df['text_clean'])\n",
    "\n",
    "    # Predict\n",
    "    preds = trained_model.predict(X_vec)\n",
    "    loan_df['predicted_label'] = preds\n",
    "\n",
    "    print(\"\\nPrediction Label Distribution:\")\n",
    "    print(loan_df['predicted_label'].value_counts())\n",
    "\n",
    "    return loan_df[['text', 'predicted_label']]\n",
    "\n",
    "# Run it\n",
    "cfpb_results = evaluate_on_cfpb(\n",
    "    cfpb_path=\"../data/raw/cfpb_complaints.csv\",\n",
    "    trained_model=model,\n",
    "    vectorizer=vectorizer\n",
    ")\n",
    "\n",
    "# Visualize results\n",
    "plt.figure(figsize=(6, 4))\n",
    "sns.countplot(data=cfpb_results, x='predicted_label', palette='Set2')\n",
    "plt.title(\"CFPB Complaint Predictions by Model\")\n",
    "plt.xlabel(\"Predicted Label\")\n",
    "plt.ylabel(\"Count\")\n",
    "plt.tight_layout()\n",
    "plt.show()"
   ]
  },
  {
   "cell_type": "markdown",
   "id": "897c2bcc",
   "metadata": {},
   "source": [
    "## BERT Modeling"
   ]
  },
  {
   "cell_type": "code",
   "execution_count": null,
   "id": "16c5cbc7",
   "metadata": {},
   "outputs": [],
   "source": [
    "#Tokenization\n",
    "label_mapping = {'predatory': 1, 'non_predatory': 0}\n",
    "full_df = full_df[full_df['label'].isin(label_mapping)].reset_index(drop=True)\n",
    "\n",
    "X_train, X_test, y_train, y_test = train_test_split(\n",
    "    full_df['text'],\n",
    "    full_df['label'],\n",
    "    test_size=0.2,\n",
    "    random_state=42,\n",
    "    stratify=full_df['label']\n",
    ")\n",
    "\n",
    "y_train_int = y_train.map(label_mapping)\n",
    "y_test_int = y_test.map(label_mapping)"
   ]
  },
  {
   "cell_type": "code",
   "execution_count": null,
   "id": "7f43702d",
   "metadata": {},
   "outputs": [],
   "source": [
    "train_dataset = Dataset.from_dict({\n",
    "    'text': X_train.tolist(),\n",
    "    'label': y_train_int.tolist()\n",
    "})\n",
    "test_dataset = Dataset.from_dict({\n",
    "    'text': X_test.tolist(),\n",
    "    'label': y_test_int.tolist()\n",
    "})\n",
    "\n",
    "def tokenize(batch):\n",
    "    return tokenizer(batch['text'], padding=True, truncation=True)\n",
    "\n",
    "train_dataset = train_dataset.map(tokenize, batched=True)\n",
    "test_dataset = test_dataset.map(tokenize, batched=True)\n",
    "\n",
    "train_dataset.set_format('torch', columns=['input_ids','attention_mask','label'])\n",
    "test_dataset.set_format('torch', columns=['input_ids','attention_mask','label'])\n",
    "\n",
    "model = BertForSequenceClassification.from_pretrained('bert-base-uncased', num_labels=2)\n",
    "model.config.problem_type = \"single_label_classification\"\n",
    "\n",
    "training_args = TrainingArguments(\n",
    "    output_dir=\"./results\",\n",
    "    per_device_train_batch_size=8,\n",
    "    per_device_eval_batch_size=8,\n",
    "    num_train_epochs=4,\n",
    "    learning_rate=2e-5,\n",
    "    weight_decay=0.01,\n",
    "    logging_dir='./logs',\n",
    ")\n",
    "\n",
    "trainer = Trainer(\n",
    "    model=model,\n",
    "    args=training_args,\n",
    "    train_dataset=train_dataset,\n",
    "    eval_dataset=test_dataset,\n",
    ")\n",
    "\n",
    "trainer.train()"
   ]
  },
  {
   "cell_type": "code",
   "execution_count": null,
   "id": "c8bc8a30",
   "metadata": {},
   "outputs": [],
   "source": [
    "model = BertForSequenceClassification.from_pretrained('bert-base-uncased', num_labels=2)\n",
    "model.config.problem_type = \"single_label_classification\"\n",
    "\n",
    "training_args = TrainingArguments(\n",
    "    output_dir=\"./results\",\n",
    "    per_device_train_batch_size=8,\n",
    "    per_device_eval_batch_size=8,\n",
    "    num_train_epochs=4,\n",
    "    learning_rate=2e-5,\n",
    "    weight_decay=0.01,\n",
    "    logging_dir='./logs',\n",
    "\n",
    ")\n",
    "\n",
    "trainer = Trainer(\n",
    "    model=model,\n",
    "    args=training_args,\n",
    "    train_dataset=train_dataset,\n",
    "    eval_dataset=test_dataset,\n",
    ")\n",
    "# run training\n",
    "trainer.train()\n",
    "\n",
    "# still fine to call .predict afterwards…\n",
    "preds = trainer.predict(test_dataset)\n",
    "y_pred = torch.argmax(torch.tensor(preds.predictions), dim=1)\n"
   ]
  },
  {
   "cell_type": "code",
   "execution_count": null,
   "id": "4c5f0804",
   "metadata": {},
   "outputs": [],
   "source": [
    "# Predict and Evaluate\n",
    "preds = trainer.predict(test_dataset)\n",
    "y_pred = torch.argmax(torch.tensor(preds.predictions), dim=1)\n",
    "\n",
    "print(\"=== BERT Classification Report ===\")\n",
    "print(classification_report(y_test_int, y_pred))"
   ]
  },
  {
   "cell_type": "code",
   "execution_count": null,
   "id": "80bfc3cc",
   "metadata": {},
   "outputs": [],
   "source": [
    "# - Fine-tune BERT with better hyperparameters\n",
    "\n",
    "from transformers import TrainingArguments\n",
    "\n",
    "training_args = TrainingArguments(\n",
    "    output_dir=\"./bert_finetuned_results\",\n",
    "    per_device_train_batch_size=16,     # More examples per step if you have enough memory\n",
    "    per_device_eval_batch_size=16,\n",
    "    num_train_epochs=5,                 # 5 is a good sweet spot\n",
    "    learning_rate=3e-5,                 # Slightly higher LR than before\n",
    "    weight_decay=0.01,\n",
    "    evaluation_strategy=\"epoch\",       # Evaluate each epoch\n",
    "    save_strategy=\"epoch\",             # Save best model each epoch\n",
    "    load_best_model_at_end=True,\n",
    "    metric_for_best_model=\"f1\",        # Use F1 if you care about balance\n",
    "    logging_dir=\"./bert_logs\",\n",
    "    logging_strategy=\"epoch\",\n",
    "    save_total_limit=1                 # Save only the best checkpoint\n",
    ")\n"
   ]
  }
 ],
 "metadata": {
  "kernelspec": {
   "display_name": "env",
   "language": "python",
   "name": "python3"
  },
  "language_info": {
   "codemirror_mode": {
    "name": "ipython",
    "version": 3
   },
   "file_extension": ".py",
   "mimetype": "text/x-python",
   "name": "python",
   "nbconvert_exporter": "python",
   "pygments_lexer": "ipython3",
   "version": "3.11.5"
  }
 },
 "nbformat": 4,
 "nbformat_minor": 5
}
