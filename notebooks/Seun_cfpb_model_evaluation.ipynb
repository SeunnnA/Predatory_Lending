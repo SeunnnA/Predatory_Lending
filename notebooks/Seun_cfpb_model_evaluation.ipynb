{
 "cells": [
  {
   "cell_type": "code",
   "execution_count": null,
   "id": "ea74701f",
   "metadata": {},
   "outputs": [],
   "source": [
    "# Setup\n",
    "import pandas as pd\n",
    "import numpy as np\n",
    "import matplotlib.pyplot as plt\n",
    "import seaborn as sns\n",
    "\n",
    "# Load model/vectorizer if saved\n",
    "from joblib import load\n",
    "from sklearn.metrics import classification_report\n",
    "\n",
    "# Optional: if you want to reuse your keyword cleaner\n",
    "def clean_keywords(text):\n",
    "    keywords = [\n",
    "        \"credit union\", \"union\", \"payday\", \"loanmart\", \"loan mart\", \"lending\", \n",
    "        \"cashnet\", \"advance america\", \"quick cash\", \"title loan\", \"speedy cash\",\n",
    "        \"tribal loan\", \"easy finance\", \"short-term loan\", \"bad credit loan\",\n",
    "        \"instant cash\", \"get money\", \"fast loan\", \"borrow instantly\"\n",
    "    ]\n",
    "    for word in keywords:\n",
    "        text = text.lower().replace(word, \"\")\n",
    "    return text\n"
   ]
  },
  {
   "cell_type": "code",
   "execution_count": null,
   "id": "5d988978",
   "metadata": {},
   "outputs": [],
   "source": [
    "# If you saved them earlier\n",
    "model = load(\"../best_model.joblib\")\n",
    "vectorizer = load(\"../tfidf_vectorizer.joblib\")\n"
   ]
  },
  {
   "cell_type": "code",
   "execution_count": null,
   "id": "692ceea9",
   "metadata": {},
   "outputs": [],
   "source": [
    "def evaluate_on_cfpb(cfpb_path, trained_model, vectorizer):\n",
    "    print(\"Loading CFPB data...\")\n",
    "    cfpb_df = pd.read_csv(cfpb_path, low_memory=False)\n",
    "\n",
    "    if 'Consumer complaint narrative' not in cfpb_df.columns or 'Product' not in cfpb_df.columns:\n",
    "        raise ValueError(\"Expected columns 'Consumer complaint narrative' and 'product' not found.\")\n",
    "\n",
    "    # Filter for loans\n",
    "    cfpb_df = cfpb_df[['Consumer complaint narrative', 'Product']].dropna()\n",
    "    cfpb_df = cfpb_df.rename(columns={'Consumer complaint narrative': 'text'})\n",
    "    loan_df = cfpb_df[cfpb_df['Product'].str.contains(\"loan\", case=False)]\n",
    "\n",
    "    print(f\"Total loan-related complaints: {len(loan_df)}\")\n",
    "\n",
    "    # Clean and vectorize\n",
    "    loan_df['text_clean'] = loan_df['text'].apply(clean_keywords)\n",
    "    loan_df = loan_df[loan_df['text_clean'].str.strip() != \"\"]\n",
    "    X_vec = vectorizer.transform(loan_df['text_clean'])\n",
    "\n",
    "    # Predict\n",
    "    preds = trained_model.predict(X_vec)\n",
    "    loan_df['predicted_label'] = preds\n",
    "\n",
    "    print(\"\\nPrediction Label Distribution:\")\n",
    "    print(loan_df['predicted_label'].value_counts())\n",
    "\n",
    "    return loan_df[['text', 'predicted_label']]\n"
   ]
  },
  {
   "cell_type": "code",
   "execution_count": null,
   "id": "7207469e",
   "metadata": {},
   "outputs": [],
   "source": [
    "cfpb_results = evaluate_on_cfpb(\n",
    "    cfpb_path=\"../data/raw/cfpb_complaints.csv\",\n",
    "    trained_model=model,\n",
    "    vectorizer=vectorizer\n",
    ")\n"
   ]
  },
  {
   "cell_type": "code",
   "execution_count": null,
   "id": "c4cdd0e1",
   "metadata": {},
   "outputs": [],
   "source": [
    "cfpb_results.sample(5)\n",
    "\n",
    "cfpb_results[cfpb_results['predicted_label'] == 'predatory'].sample(5)\n"
   ]
  },
  {
   "cell_type": "code",
   "execution_count": null,
   "id": "04cfbea6",
   "metadata": {},
   "outputs": [],
   "source": [
    "import seaborn as sns\n",
    "import matplotlib.pyplot as plt\n",
    "\n",
    "plt.figure(figsize=(6, 4))\n",
    "sns.countplot(data=cfpb_results, x='predicted_label', palette='Set2')\n",
    "plt.title(\"CFPB Complaint Predictions by Model\")\n",
    "plt.xlabel(\"Predicted Label\")\n",
    "plt.ylabel(\"Count\")\n",
    "plt.tight_layout()\n",
    "plt.show()\n"
   ]
  }
 ],
 "metadata": {
  "kernelspec": {
   "display_name": "env",
   "language": "python",
   "name": "python3"
  },
  "language_info": {
   "codemirror_mode": {
    "name": "ipython",
    "version": 3
   },
   "file_extension": ".py",
   "mimetype": "text/x-python",
   "name": "python",
   "nbconvert_exporter": "python",
   "pygments_lexer": "ipython3",
   "version": "3.11.5"
  }
 },
 "nbformat": 4,
 "nbformat_minor": 5
}
