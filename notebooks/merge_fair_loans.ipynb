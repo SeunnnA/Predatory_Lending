{
 "cells": [
  {
   "cell_type": "code",
   "execution_count": 2,
   "id": "c7b3e947",
   "metadata": {},
   "outputs": [],
   "source": [
    "import pandas as pd\n",
    "import os\n",
    "\n",
    "# Load PDF extracted texts\n",
    "pdf_df = pd.read_csv(\"../data/processed/fair_loan_pdfs.csv\")  # or wherever you saved it\n",
    "pdf_df['label'] = 'non_predatory'  # add label\n",
    "\n",
    "# Load scraped webpage .txt files\n",
    "texts = []\n",
    "filenames = []\n",
    "\n",
    "webpages_folder = \"../data/raw/web_scrapes/fair_loans/webpages/\"\n"
   ]
  },
  {
   "cell_type": "code",
   "execution_count": 3,
   "id": "bd0d4f2d",
   "metadata": {},
   "outputs": [],
   "source": [
    "for fname in os.listdir(webpages_folder):\n",
    "    if fname.endswith(\".txt\"):\n",
    "        path = os.path.join(webpages_folder, fname)\n",
    "        with open(path, \"r\", encoding=\"utf-8\") as f:\n",
    "            texts.append(f.read())\n",
    "            filenames.append(fname)\n",
    "\n",
    "webpages_df = pd.DataFrame({\n",
    "    \"filename\": filenames,\n",
    "    \"text\": texts,\n",
    "})\n",
    "webpages_df['label'] = 'non_predatory'\n"
   ]
  },
  {
   "cell_type": "code",
   "execution_count": 4,
   "id": "17ad06d7",
   "metadata": {},
   "outputs": [
    {
     "name": "stdout",
     "output_type": "stream",
     "text": [
      "(16, 3)\n"
     ]
    }
   ],
   "source": [
    "## Combine everything\n",
    "fair_loans_df = pd.concat([pdf_df, webpages_df], axis=0).reset_index(drop=True)\n",
    "\n",
    "# Quick check\n",
    "print(fair_loans_df.shape)\n",
    "fair_loans_df.head()\n",
    "\n",
    "# Save the combined fair loan texts\n",
    "fair_loans_df.to_csv(\"../data/processed/fair_loan_texts.csv\", index=False)"
   ]
  }
 ],
 "metadata": {
  "kernelspec": {
   "display_name": "Python 3",
   "language": "python",
   "name": "python3"
  },
  "language_info": {
   "codemirror_mode": {
    "name": "ipython",
    "version": 3
   },
   "file_extension": ".py",
   "mimetype": "text/x-python",
   "name": "python",
   "nbconvert_exporter": "python",
   "pygments_lexer": "ipython3",
   "version": "3.9.18"
  }
 },
 "nbformat": 4,
 "nbformat_minor": 5
}
